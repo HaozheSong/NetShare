{
  "nbformat": 4,
  "nbformat_minor": 0,
  "metadata": {
    "colab": {
      "provenance": []
    },
    "kernelspec": {
      "name": "python3",
      "display_name": "Python 3"
    },
    "language_info": {
      "name": "python"
    }
  },
  "cells": [
    {
      "cell_type": "markdown",
      "source": [
        "# NetShare (Practical GAN-based Synthetic IP Header Trace Generation)\n",
        "\n",
        "A general description of NetShare..."
      ],
      "metadata": {
        "id": "2anSLp7PEnMx"
      }
    },
    {
      "cell_type": "markdown",
      "source": [
        "# Set Up\n",
        "Steps to set up the environment, only include git install & venv set up"
      ],
      "metadata": {
        "id": "oQ1VVPYRHxvB"
      }
    },
    {
      "cell_type": "markdown",
      "source": [
        "# Examples and Datasets\n",
        "\n",
        "(add colab link to every dataset)\n",
        "*   Syslog\n",
        "> A short description of this dataset\n",
        "*   [Modbus](https://github.com/netsharecmu/NetShare_Summer2023_Internship/blob/modbus_processors/NetShare/examples/modbus/Modbus_NetShare.ipynb)\n",
        "> A short description of this dataset\n",
        "*   Rahul's Dataset? (may change a name)\n",
        "> A short description of this dataset\n",
        "*   [Alibaba Microservices Traces](https://github.com/netsharecmu/NetShare_Summer2023_Internship/blob/more_user_examples/NetShare/examples/Alibaba-Cluster-Trace/call-graph/user_example_instruction_outline.ipynb)\n",
        "> A short description of this dataset\n",
        "*   Cyber Security Events\n",
        "> A short description of this dataset\n",
        "*   JPM Customer Journey Trace\n",
        "> A short description of this dataset\n",
        "\n",
        "\n",
        "\n",
        "\n",
        "\n"
      ],
      "metadata": {
        "id": "DFYN5oBVGFoD"
      }
    }
  ]
}
