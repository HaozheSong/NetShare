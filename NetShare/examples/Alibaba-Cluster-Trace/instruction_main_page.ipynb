{
  "nbformat": 4,
  "nbformat_minor": 0,
  "metadata": {
    "colab": {
      "provenance": []
    },
    "kernelspec": {
      "name": "python3",
      "display_name": "Python 3"
    },
    "language_info": {
      "name": "python"
    }
  },
  "cells": [
    {
      "cell_type": "markdown",
      "source": [
        "# NetShare (Practical GAN-based Synthetic IP Header Trace Generation)\n",
        "\n",
        "A general description of NetShare..."
      ],
      "metadata": {
        "id": "2anSLp7PEnMx"
      }
    },
    {
      "cell_type": "markdown",
      "source": [
        "# Set Up\n",
        "Steps to set up the environment, only include git install & venv set up"
      ],
      "metadata": {
        "id": "oQ1VVPYRHxvB"
      }
    },
    {
      "cell_type": "markdown",
      "source": [
        "# Example Usages and Datasets\n",
        "\n",
        "(add colab link to every dataset)\n",
        "*   Syslog\n",
        "> A short description of this dataset\n",
        "*   [Modbus](https://colab.research.google.com/drive/1HFwZIcHKtRv16gLnpJI0ME2DRC82hRxe?authuser=2)\n",
        "> A short description of this dataset\n",
        "*   Rahul's Dataset? (may change a name)\n",
        "> A short description of this dataset\n",
        "*   [Alibaba Microservices Traces](https://colab.research.google.com/drive/1hYDGb_wO7N5lL8iOLlO2_DSzCpa4nRS9#scrollTo=CPjq4ePHdyRd)\n",
        "> A short description of this dataset\n",
        "*   Cyber Security Events\n",
        "> A short description of this dataset\n",
        "*   JPM Customer Journey Trace\n",
        "> A short description of this dataset\n",
        "\n",
        "\n",
        "\n",
        "\n",
        "\n"
      ],
      "metadata": {
        "id": "DFYN5oBVGFoD"
      }
    }
  ]
}